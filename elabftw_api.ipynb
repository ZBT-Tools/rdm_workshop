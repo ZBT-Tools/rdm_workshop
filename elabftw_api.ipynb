{
 "cells": [
  {
   "cell_type": "markdown",
   "metadata": {},
   "source": [
    "# Notebook to show acces to eLabFTW with Python API\n",
    "## Get a sample experiment and print it to txt-File\n",
    "\n",
    "Further documentation: https://github.com/elabftw/elabapi-python\n",
    "\n",
    "Starting example: https://github.com/elabftw/elabapi-python/blob/master/examples/00-getting-started.py"
   ]
  },
  {
   "cell_type": "code",
   "execution_count": null,
   "metadata": {},
   "outputs": [],
   "source": [
    "# Load relevant modules\n",
    "import elabapi_python\n",
    "import os\n",
    "from dotenv import load_dotenv"
   ]
  },
  {
   "cell_type": "code",
   "execution_count": null,
   "metadata": {},
   "outputs": [],
   "source": [
    "# Load environment variables\n",
    "# Here you must include the respective environment variables in a separate \".env\" file,\n",
    "# which will not be shared (specify exclusion from git in .gitignore).\n",
    "# The eLabFTW-Key must be generated from within the eLabFTW GUI (https://doc.elabftw.net/api.html#generating-a-key)\n",
    "# The eLabFTW-Host should have the following format \"https://ip:port/api/v2\" \n",
    "# (find the ip and port in your browsers adress bar when you open the eLabFTW-GUI)\n",
    "load_dotenv(override=True)\n",
    "elabtftw_key = os.environ.get(\"ELABFTW_KEY\")\n",
    "elabtftw_host = os.environ.get(\"ELABFTW_HOST\")"
   ]
  },
  {
   "cell_type": "code",
   "execution_count": null,
   "metadata": {},
   "outputs": [],
   "source": [
    "# Initialize a configuration object from the library\n",
    "configuration = elabapi_python.Configuration()\n",
    "# Set the host\n",
    "configuration.host = elabtftw_host\n",
    "configuration.verify_ssl = False\n",
    "# Create an API client object with our configuration\n",
    "api_client = elabapi_python.ApiClient(configuration)\n",
    "# Set the Api Key in Authorization header\n",
    "api_client.set_default_header(header_name='Authorization', header_value=elabtftw_key)\n",
    "\n",
    "# Depending on your needs, instantiate the correct object with api_client as argument\n",
    "info_client = elabapi_python.InfoApi(api_client)\n",
    "exp_client = elabapi_python.ExperimentsApi(api_client)\n",
    "items_client = elabapi_python.ItemsApi(api_client)"
   ]
  },
  {
   "cell_type": "code",
   "execution_count": null,
   "metadata": {},
   "outputs": [],
   "source": [
    "# Test the API response and get general info about the eLabFTW instance\n",
    "api_response = info_client.get_info()\n",
    "api_response"
   ]
  },
  {
   "cell_type": "code",
   "execution_count": null,
   "metadata": {},
   "outputs": [],
   "source": [
    "# Get a specific experiment from eLabFTW with the eLabFTW ID 1095 (example)\n",
    "experiment = exp_client.get_experiment(1095)\n",
    "experiment"
   ]
  },
  {
   "cell_type": "code",
   "execution_count": null,
   "metadata": {},
   "outputs": [],
   "source": [
    "# Write experiment data to txt file, just to exemplify, extend as needed\n",
    "with open('experiment_output.txt', 'w') as file:\n",
    "    file.write('Experiment ID: {} \\n'.format(experiment.id))\n",
    "    file.write('Experiment Titel: {} \\n'.format(experiment.title))"
   ]
  }
 ],
 "metadata": {
  "kernelspec": {
   "display_name": "general",
   "language": "python",
   "name": "python3"
  },
  "language_info": {
   "codemirror_mode": {
    "name": "ipython",
    "version": 3
   },
   "file_extension": ".py",
   "mimetype": "text/x-python",
   "name": "python",
   "nbconvert_exporter": "python",
   "pygments_lexer": "ipython3",
   "version": "3.11.7"
  }
 },
 "nbformat": 4,
 "nbformat_minor": 2
}
