{
 "cells": [
  {
   "cell_type": "markdown",
   "metadata": {},
   "source": [
    "# Notebook to show acces to eLabFTW with Python API\n",
    "## Get a sample experiment and print it to txt-File\n",
    "\n",
    "Further documentation: https://github.com/elabftw/elabapi-python\n",
    "Starting example: https://github.com/elabftw/elabapi-python/blob/master/examples/00-getting-started.py"
   ]
  },
  {
   "cell_type": "code",
   "execution_count": 35,
   "metadata": {},
   "outputs": [],
   "source": [
    "# Load relevant modules\n",
    "import elabapi_python\n",
    "import os\n",
    "from dotenv import load_dotenv"
   ]
  },
  {
   "cell_type": "code",
   "execution_count": null,
   "metadata": {},
   "outputs": [
    {
     "data": {
      "text/plain": [
       "'https://172.16.134.8:4000/api/v2'"
      ]
     },
     "execution_count": 41,
     "metadata": {},
     "output_type": "execute_result"
    }
   ],
   "source": [
    "# Load environment variables\n",
    "# Here you must include the respective environment variables in a separate \".env\" file,\n",
    "# which will not be shared (specify exclusion from git in .gitignore).\n",
    "# The eLabFTW-Key must be generated from within the eLabFTW GUI (https://doc.elabftw.net/api.html#generating-a-key)\n",
    "# The eLabFTW-Host should have the following format \"https://ip:port/api/v2\" \n",
    "# (find the ip and port in your browsers adress bar when you open the eLabFTW-GUI)\n",
    "load_dotenv(override=True)\n",
    "elabtftw_key = os.environ.get(\"ELABFTW_KEY\")\n",
    "elabtftw_host = os.environ.get(\"ELABFTW_HOST\")\n",
    "elabtftw_host"
   ]
  },
  {
   "cell_type": "code",
   "execution_count": 37,
   "metadata": {},
   "outputs": [],
   "source": [
    "# Initialize a configuration object from the library\n",
    "configuration = elabapi_python.Configuration()\n",
    "# Set the host\n",
    "configuration.host = elabtftw_host\n",
    "configuration.verify_ssl = False\n",
    "# Create an API client object with our configuration\n",
    "api_client = elabapi_python.ApiClient(configuration)\n",
    "# Set the Api Key in Authorization header\n",
    "api_client.set_default_header(header_name='Authorization', header_value=elabtftw_key)\n",
    "\n",
    "# Depending on your needs, instantiate the correct object with api_client as argument\n",
    "info_client = elabapi_python.InfoApi(api_client)\n",
    "exp_client = elabapi_python.ExperimentsApi(api_client)\n",
    "items_client = elabapi_python.ItemsApi(api_client)"
   ]
  },
  {
   "cell_type": "code",
   "execution_count": 38,
   "metadata": {},
   "outputs": [
    {
     "name": "stderr",
     "output_type": "stream",
     "text": [
      "c:\\Users\\l.feierabend\\miniconda3\\envs\\general\\Lib\\site-packages\\urllib3\\connectionpool.py:1103: InsecureRequestWarning: Unverified HTTPS request is being made to host '172.16.134.8'. Adding certificate verification is strongly advised. See: https://urllib3.readthedocs.io/en/latest/advanced-usage.html#tls-warnings\n",
      "  warnings.warn(\n"
     ]
    },
    {
     "data": {
      "text/plain": [
       "{'active_users_count': 91,\n",
       " 'all_users_count': 93,\n",
       " 'elabftw_version': '5.1.14',\n",
       " 'elabftw_version_int': 50114,\n",
       " 'experiments_count': 744,\n",
       " 'experiments_timestamped_count': 0,\n",
       " 'items_count': 502,\n",
       " 'teams_count': 11,\n",
       " 'ts_balance': 0,\n",
       " 'uploads_filesize_sum': 431850839,\n",
       " 'uploads_filesize_sum_formatted': '411.85 MiB'}"
      ]
     },
     "execution_count": 38,
     "metadata": {},
     "output_type": "execute_result"
    }
   ],
   "source": [
    "# Test the API response and get general info about the eLabFTW instance\n",
    "api_response = info_client.get_info()\n",
    "api_response"
   ]
  },
  {
   "cell_type": "code",
   "execution_count": null,
   "metadata": {},
   "outputs": [
    {
     "name": "stderr",
     "output_type": "stream",
     "text": [
      "c:\\Users\\l.feierabend\\miniconda3\\envs\\general\\Lib\\site-packages\\urllib3\\connectionpool.py:1103: InsecureRequestWarning: Unverified HTTPS request is being made to host '172.16.134.8'. Adding certificate verification is strongly advised. See: https://urllib3.readthedocs.io/en/latest/advanced-usage.html#tls-warnings\n",
      "  warnings.warn(\n"
     ]
    },
    {
     "data": {
      "text/plain": [
       "{'_date': '2025-04-08',\n",
       " 'access_key': None,\n",
       " 'body': '',\n",
       " 'body_html': '',\n",
       " 'canread': '{\"base\": 40, \"teams\": [], \"users\": [], \"teamgroups\": []}',\n",
       " 'canwrite': '{\"base\": 20, \"teams\": [], \"users\": [44, 13, 10], \"teamgroups\": '\n",
       "             '[]}',\n",
       " 'category': None,\n",
       " 'category_color': None,\n",
       " 'category_title': None,\n",
       " 'comments': [],\n",
       " 'content_type': 1,\n",
       " 'created_at': '2025-04-08 15:58:11',\n",
       " 'custom_id': None,\n",
       " 'elabid': '20250408-877024c5ad862d5eb2f978e8039ceb08714bf7c8',\n",
       " 'exclusive_edit_mode': {'fullname': None,\n",
       "                         'locked_at': None,\n",
       "                         'locked_by': None},\n",
       " 'experiments_links': [],\n",
       " 'firstname': 'Simon',\n",
       " 'fullname': 'Simon Dondrup',\n",
       " 'has_attachement': None,\n",
       " 'has_comment': 0,\n",
       " 'id': 1095,\n",
       " 'items_links': [{'category_color': '0000ff',\n",
       "                  'category_title': 'Sample',\n",
       "                  'custom_id': None,\n",
       "                  'entityid': 740,\n",
       "                  'is_bookable': 0,\n",
       "                  'link_state': 1,\n",
       "                  'page': 'database.php',\n",
       "                  'status_color': None,\n",
       "                  'status_title': None,\n",
       "                  'title': 'JKP_6100_mbp001_maxcoat01',\n",
       "                  'type': 'items'},\n",
       "                 {'category_color': 'ff00ff',\n",
       "                  'category_title': 'Test device',\n",
       "                  'custom_id': None,\n",
       "                  'entityid': 108,\n",
       "                  'is_bookable': 0,\n",
       "                  'link_state': 1,\n",
       "                  'page': 'database.php',\n",
       "                  'status_color': None,\n",
       "                  'status_title': None,\n",
       "                  'title': 'M4-Tornado XRF',\n",
       "                  'type': 'items'}],\n",
       " 'lastchangeby': 10,\n",
       " 'lastname': 'Dondrup',\n",
       " 'locked': 0,\n",
       " 'locked_at': None,\n",
       " 'lockedby': None,\n",
       " 'metadata': '{\"elabftw\": {\"extra_fields_groups\": [{\"id\": 8, \"name\": '\n",
       "             '\"META-DATA\"}, {\"id\": 7, \"name\": \"Measurments\"}, {\"id\": 2, '\n",
       "             '\"name\": \"Sorce Parameter\"}, {\"id\": 6, \"name\": \"Measurment '\n",
       "             'Parameter\"}, {\"id\": 3, \"name\": \"Point Analyse\"}, {\"id\": 1, '\n",
       "             '\"name\": \"Mapping\"}, {\"id\": 4, \"name\": \"QMap\"}, {\"id\": 5, \"name\": '\n",
       "             '\"\"}]}, \"extra_fields\": {\"Type\": {\"type\": \"text\", \"value\": \"MEA\", '\n",
       "             '\"group_id\": 8, \"position\": 0}, \"Owner\": {\"type\": \"text\", '\n",
       "             '\"value\": \"JKP\", \"group_id\": 8, \"position\": 2, \"required\": true}, '\n",
       "             '\"Vacuum\": {\"type\": \"select\", \"value\": \"Yes\", \"options\": [\"Yes\", '\n",
       "             '\"No\"], \"group_id\": 6, \"position\": 1}, \"Project\": {\"type\": '\n",
       "             '\"number\", \"unit\": \"\", \"units\": [], \"value\": \"6100\", \"group_id\": '\n",
       "             '8, \"position\": 3, \"required\": true}, \"Pixelsize\": {\"type\": '\n",
       "             '\"number\", \"unit\": \"um\", \"units\": [\"um\"], \"value\": \"25\", '\n",
       "             '\"group_id\": 1}, \"Point size\": {\"type\": \"select\", \"value\": \"-\", '\n",
       "             '\"options\": [\"20um\", \"170um\", \"-\"], \"group_id\": 3}, \"Resolution\": '\n",
       "             '{\"type\": \"number\", \"unit\": \"\", \"units\": [], \"value\": \"0\", '\n",
       "             '\"group_id\": 4}, \"Measurments\": {\"type\": \"select\", \"value\": '\n",
       "             '[\"Map\"], \"options\": [\"Point\", \"Map\", \"Mean QMAp\", \"QMap\"], '\n",
       "             '\"group_id\": 7, \"description\": \"select all intended '\n",
       "             'measurements\", \"allow_multi_values\": true}, \"Sample name\": '\n",
       "             '{\"type\": \"text\", \"value\": \"maxcoat01\", \"group_id\": 8, '\n",
       "             '\"position\": 1}, \"Experimenter\": {\"type\": \"text\", \"value\": \"SDP\", '\n",
       "             '\"group_id\": 8, \"required\": true}, \"Measure modus\": {\"type\": '\n",
       "             '\"select\", \"value\": \"-\", \"options\": [\"Real Time\", \"Life Time\", '\n",
       "             '\"Counts \", \"Fast\", \"Precise\", \"Exhaustive\", \"Manual\", \"-\"], '\n",
       "             '\"group_id\": 3}, \"Q-Map methode\": {\"type\": \"select\", \"value\": '\n",
       "             '\"-\", \"options\": [\"AU_TI_300\", \"CL-FE-PT\", \"FE_NI_800UA\", '\n",
       "             '\"FWHM_Mn\", \"IR_AU_300\", \"IR_C_800\", \"IR_C_PT_C\", \"IR_TI\", '\n",
       "             '\"IR_TI_300UA\", \"JüLICH_PT_C_800_SCHWEBEND\", \"NB_TI-300\", '\n",
       "             '\"NI_BEAKERT 20FP3\", \"NI_BEAKERT 20FP3_800UA\", '\n",
       "             '\"PT_C(GDL)_SCHWEBEND_800\", \"PT_C(GDL)_TISCH_800UA_KAL\", \"PT_C\", '\n",
       "             '\"PT_C_800UA\", \"PT_C_HERAUS HS\", '\n",
       "             '\"PT_C-GDL_(SCHWEBEND)50_300_KAL\", \"PT_C-GDL_(TISCH)50_300_KAL\", '\n",
       "             '\"PT_PTFE_MS_800\", \"PT_TI 300UA\", \"PT_TI\", \"PT_TI_800UA\", '\n",
       "             '\"PT_TI_800UA\", \"PureElem\", \"Reference\", \"RU_C_800UA\", '\n",
       "             '\"S_C_800UA\", \"SS_C(GDL)_800UA\", \"STANDARD_I-SKAB\", \"StdSample\", '\n",
       "             '\"TI_EDELSTAHL 4044_300UA\", \"TI-NB_EDESTAHL 1440\", \"W_BEAKERT '\n",
       "             'FP20_300UA\", \"W_BEAKERT FP20_300UA\", \"ZR-TI_SS_300\", \"-\"], '\n",
       "             '\"group_id\": 4}, \"Number of points\": {\"type\": \"number\", \"unit\": '\n",
       "             '\"\", \"units\": [], \"value\": \"\", \"group_id\": 3}, \"Source '\n",
       "             'parameter\": {\"type\": \"select\", \"value\": \"35kV 800uA\", \"options\": '\n",
       "             '[\"50kV 600uA\", \"50kV 300uA\", \"35kV  800uA\"], \"group_id\": 6, '\n",
       "             '\"position\": 0}, \"Pixel exposure time\": {\"type\": \"number\", '\n",
       "             '\"unit\": \"ms\", \"units\": [\"ms\"], \"value\": \"15\", \"group_id\": 1}, '\n",
       "             '\"Results storage path\": {\"type\": \"text\", \"value\": '\n",
       "             '\"D:\\\\\\\\Abt.6\\\\\\\\JKP\\\\\\\\Maxcoat01\", \"group_id\": 8, \"position\": 4, '\n",
       "             '\"required\": true}, \"Time for Real or Life time\": {\"type\": '\n",
       "             '\"number\", \"unit\": \"s\", \"units\": [\"s\"], \"value\": \"\", \"group_id\": '\n",
       "             '3}}}',\n",
       " 'modified_at': '2025-04-08 16:00:54',\n",
       " 'next_step': None,\n",
       " 'orcid': None,\n",
       " 'page': 'experiments',\n",
       " 'rating': 0,\n",
       " 'recent_comment': None,\n",
       " 'related_experiments_links': [],\n",
       " 'related_items_links': [],\n",
       " 'sharelink': 'https://172.16.134.8:4000/experiments.php?mode=view&id=1095',\n",
       " 'state': 1,\n",
       " 'status': 5,\n",
       " 'status_color': '29AEB9',\n",
       " 'status_title': 'Running',\n",
       " 'steps': [],\n",
       " 'tags': 'XRF',\n",
       " 'tags_id': '31',\n",
       " 'team': 2,\n",
       " 'timestamped': 0,\n",
       " 'timestamped_at': None,\n",
       " 'timestampedby': None,\n",
       " 'title': '6100_JKP_XRF_mbp001_maxcoat01',\n",
       " 'type': 'experiments',\n",
       " 'up_item_id': None,\n",
       " 'uploads': [],\n",
       " 'userid': 10}"
      ]
     },
     "execution_count": 39,
     "metadata": {},
     "output_type": "execute_result"
    }
   ],
   "source": [
    "# Get a specific experiment from eLabFTW with the eLabFTW ID 1095 (example)\n",
    "experiment = exp_client.get_experiment(1095)\n",
    "experiment"
   ]
  },
  {
   "cell_type": "code",
   "execution_count": null,
   "metadata": {},
   "outputs": [],
   "source": [
    "# Write experiment data to txt file, just to exemplify, extend as needed\n",
    "with open('experiment_output.txt', 'w') as file:\n",
    "    file.write('Experiment ID: {} \\n'.format(experiment.id))\n",
    "    file.write('Experiment Titel: {} \\n'.format(experiment.title))"
   ]
  }
 ],
 "metadata": {
  "kernelspec": {
   "display_name": "general",
   "language": "python",
   "name": "python3"
  },
  "language_info": {
   "codemirror_mode": {
    "name": "ipython",
    "version": 3
   },
   "file_extension": ".py",
   "mimetype": "text/x-python",
   "name": "python",
   "nbconvert_exporter": "python",
   "pygments_lexer": "ipython3",
   "version": "3.11.7"
  }
 },
 "nbformat": 4,
 "nbformat_minor": 2
}
